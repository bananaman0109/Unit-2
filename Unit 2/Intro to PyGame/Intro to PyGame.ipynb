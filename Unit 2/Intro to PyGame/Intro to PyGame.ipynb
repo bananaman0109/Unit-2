{
 "cells": [
  {
   "cell_type": "markdown",
   "metadata": {},
   "source": [
    "# Introduction to Pygame Lesson\n",
    "\n",
    "Welcome to this introductory course on Pygame, a powerful library for writing video games using Python. \n",
    "\n",
    "This lesson serves as a prerequisite to our Flappy Bird game development series.\n",
    "\n",
    "## Lesson Objectives\n",
    "\n",
    "By the end of this lesson, you should be able to:\n",
    "- Install and import the Pygame library\n",
    "- Understand the Pygame coordinate system\n",
    "- Create a basic game window\n",
    "- Understand the concept of a game loop"
   ]
  },
  {
   "cell_type": "markdown",
   "metadata": {},
   "source": [
    "## Installing Pygame\n",
    "\n",
    "Before we can begin coding, we need to install the Pygame library.\n",
    "\n",
    "We can use pip in Jupyter by using the '!' character to specify console operations."
   ]
  },
  {
   "cell_type": "code",
   "execution_count": 1,
   "metadata": {},
   "outputs": [
    {
     "name": "stdout",
     "output_type": "stream",
     "text": [
      "Collecting pygame\n",
      "  Obtaining dependency information for pygame from https://files.pythonhosted.org/packages/82/61/93ae7afbd931a70510cfdf0a7bb0007540020b8d80bc1d8762ebdc46479b/pygame-2.5.2-cp311-cp311-win_amd64.whl.metadata\n",
      "  Downloading pygame-2.5.2-cp311-cp311-win_amd64.whl.metadata (13 kB)\n",
      "Downloading pygame-2.5.2-cp311-cp311-win_amd64.whl (10.8 MB)\n",
      "   ---------------------------------------- 0.0/10.8 MB ? eta -:--:--\n",
      "   ---------------------------------------- 0.0/10.8 MB ? eta -:--:--\n",
      "   -- ------------------------------------- 0.6/10.8 MB 10.1 MB/s eta 0:00:02\n",
      "   ------ --------------------------------- 1.9/10.8 MB 16.9 MB/s eta 0:00:01\n",
      "   ---------- ----------------------------- 2.7/10.8 MB 17.2 MB/s eta 0:00:01\n",
      "   -------------- ------------------------- 3.9/10.8 MB 20.6 MB/s eta 0:00:01\n",
      "   ------------------ --------------------- 5.0/10.8 MB 21.1 MB/s eta 0:00:01\n",
      "   ----------------------- ---------------- 6.2/10.8 MB 23.4 MB/s eta 0:00:01\n",
      "   ---------------------------- ----------- 7.6/10.8 MB 24.4 MB/s eta 0:00:01\n",
      "   --------------------------------- ------ 9.0/10.8 MB 25.0 MB/s eta 0:00:01\n",
      "   ---------------------------------------  10.7/10.8 MB 31.2 MB/s eta 0:00:01\n",
      "   ---------------------------------------- 10.8/10.8 MB 28.5 MB/s eta 0:00:00\n",
      "Installing collected packages: pygame\n",
      "Successfully installed pygame-2.5.2\n"
     ]
    },
    {
     "name": "stderr",
     "output_type": "stream",
     "text": [
      "\n",
      "[notice] A new release of pip is available: 23.2.1 -> 23.3.1\n",
      "[notice] To update, run: python.exe -m pip install --upgrade pip\n"
     ]
    }
   ],
   "source": [
    "!pip install pygame"
   ]
  },
  {
   "cell_type": "markdown",
   "metadata": {},
   "source": [
    "To use PyGame we have to import and initialize it in our Python program."
   ]
  },
  {
   "cell_type": "code",
   "execution_count": null,
   "metadata": {},
   "outputs": [],
   "source": [
    "# Importing Pygame and Initialization\n",
    "import pygame\n",
    "pygame.init()"
   ]
  },
  {
   "cell_type": "markdown",
   "metadata": {},
   "source": [
    "## Pygame Coordinate System\n",
    "\n",
    "In Pygame, the coordinate system starts at the top-left corner (0,0). \n",
    "\n",
    "As you move right, the x-coordinate increases. As you move down, the y-coordinate increases."
   ]
  },
  {
   "cell_type": "markdown",
   "metadata": {},
   "source": [
    "## Creating a Game Window\n",
    "\n",
    "To create a game window, you can use the `pygame.display.set_mode()` function. \n",
    "\n",
    "This function takes in a tuple representing the width and height of the window.\n"
   ]
  },
  {
   "cell_type": "code",
   "execution_count": null,
   "metadata": {},
   "outputs": [],
   "source": [
    "# Creating a Game Window\n",
    "window_size = (800, 600)\n",
    "screen = pygame.display.set_mode(window_size)"
   ]
  },
  {
   "cell_type": "markdown",
   "metadata": {},
   "source": [
    "## The Game Loop\n",
    "\n",
    "The game loop is the heart of every game. \n",
    "\n",
    "It runs continuously during gameplay, handling events, updating game state, and rendering graphics on the screen."
   ]
  },
  {
   "cell_type": "code",
   "execution_count": null,
   "metadata": {},
   "outputs": [],
   "source": [
    "# A Simple Game Loop\n",
    "running = True\n",
    "\n",
    "while running:\n",
    "    for event in pygame.event.get():\n",
    "        if event.type == pygame.QUIT:\n",
    "            running = False\n",
    "\n",
    "    screen.fill((255, 255, 255))  # Fill the screen with white color\n",
    "    pygame.display.flip()  # Update the display\n",
    "\n",
    "pygame.quit()"
   ]
  },
  {
   "cell_type": "markdown",
   "metadata": {},
   "source": [
    "## Deep Dive: Understanding the Game Loop\n",
    "\n",
    "The game loop is the core of any video game. \n",
    "\n",
    "It's responsible for handling user input, updating the game state, and rendering graphics to create a dynamic, interactive experience. \n",
    "\n",
    "Let's dissect the game loop to better understand its various components."
   ]
  },
  {
   "cell_type": "markdown",
   "metadata": {},
   "source": [
    "### Event Handling\n",
    "\n",
    "The first part of the game loop typically deals with event handling. This includes detecting key presses, mouse movements, and other types of user input. In Pygame, this is commonly done using `pygame.event.get()` to retrieve all events that have occurred since the last iteration of the loop.\n"
   ]
  },
  {
   "cell_type": "markdown",
   "metadata": {},
   "source": [
    "### Game State Update\n",
    "\n",
    "After handling events, the next step is to update the game state based on those events and other factors like game rules. For example, this is where we'd update the bird's position based on its velocity and gravity in a Flappy Bird game. The key idea is that the game state should be updated at a constant rate to ensure a smooth gaming experience.\n"
   ]
  },
  {
   "cell_type": "markdown",
   "metadata": {},
   "source": [
    "### Rendering\n",
    "\n",
    "Once the game state is updated, the next step is to render the updated state onto the screen. This usually involves drawing shapes, text, and images (sprites) at their updated positions. It's crucial to keep this step as efficient as possible to maintain high frame rates.\n"
   ]
  },
  {
   "cell_type": "markdown",
   "metadata": {},
   "source": [
    "### Screen Refresh\n",
    "\n",
    "Finally, after all the rendering is done, the screen needs to be updated to reflect the changes. In Pygame, this is done using `pygame.display.flip()`. This command updates the entire screen with everything that's been drawn since the last screen update. Alternatively, `pygame.display.update()` can be used to update only portions of the screen, which can be more efficient.\n"
   ]
  },
  {
   "cell_type": "markdown",
   "metadata": {},
   "source": [
    "### Frame Rate Control\n",
    "\n",
    "To ensure the game runs smoothly across different systems, it's common to control the frame rate of the game loop. In Pygame, this is achieved using `pygame.time.Clock` and the `tick()` method to set a fixed number of iterations per second (commonly 30 or 60).\n"
   ]
  },
  {
   "cell_type": "code",
   "execution_count": null,
   "metadata": {},
   "outputs": [],
   "source": [
    "# We see all of these components here in this basic game loop\n",
    "running = True\n",
    "\n",
    "while running:\n",
    "    \n",
    "    # event handling\n",
    "    for event in pygame.event.get():\n",
    "        if event.type == pygame.QUIT:\n",
    "            running = False\n",
    "            \n",
    "    # game state updates here\n",
    "    \n",
    "    # rendering\n",
    "    screen.fill((255, 255, 255))  # Fill the screen with white color\n",
    "    \n",
    "    # screen refresh\n",
    "    pygame.display.flip()  # Update the display\n",
    "    \n",
    "    # frame rate control\n",
    "    pygame.time.delay(30)\n",
    "\n",
    "pygame.quit()"
   ]
  },
  {
   "cell_type": "markdown",
   "metadata": {},
   "source": [
    "## User Input\n",
    "\n",
    "To make our games interactive, we need to handle user input, such as keyboard events. \n",
    "\n",
    "Let's see how to detect a SPACEBAR press, which we'll use to make the bird flap in our Flappy Bird game."
   ]
  },
  {
   "cell_type": "code",
   "execution_count": null,
   "metadata": {},
   "outputs": [],
   "source": [
    "# Handling user input in the game loop\n",
    "running = True\n",
    "\n",
    "while running:\n",
    "    for event in pygame.event.get():\n",
    "        if event.type == pygame.QUIT:\n",
    "            running = False\n",
    "            # *** NEW CODE ***\n",
    "        if event.type == pygame.KEYDOWN:\n",
    "            if event.key == pygame.K_SPACE:\n",
    "                print(\"Spacebar pressed\")\n",
    "\n",
    "    # ... (rendering code)"
   ]
  },
  {
   "cell_type": "markdown",
   "metadata": {},
   "source": [
    "## Summary\n",
    "\n",
    " Today, we learned the basics of Pygame including installation, initialization, the coordinate system, creating a game window, and understanding the game loop."
   ]
  }
 ],
 "metadata": {
  "kernelspec": {
   "display_name": "Python 3",
   "language": "python",
   "name": "python3"
  },
  "language_info": {
   "codemirror_mode": {
    "name": "ipython",
    "version": 3
   },
   "file_extension": ".py",
   "mimetype": "text/x-python",
   "name": "python",
   "nbconvert_exporter": "python",
   "pygments_lexer": "ipython3",
   "version": "3.11.5"
  },
  "orig_nbformat": 4
 },
 "nbformat": 4,
 "nbformat_minor": 2
}
