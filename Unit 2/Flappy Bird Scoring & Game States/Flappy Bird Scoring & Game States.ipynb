{
 "cells": [
  {
   "cell_type": "markdown",
   "metadata": {},
   "source": [
    "# Scoring, Adding Start and Game-Over Lesson\n",
    "\n",
    "Welcome back to our ongoing series on creating a Flappy Bird game with Python and Pygame. Today, we'll add start and game-over screens and enhance our scoring system.\n",
    "\n",
    "## Lesson Objectives\n",
    "\n",
    "By the end of this lesson, you should be able to:\n",
    "- Create a start screen for the game\n",
    "- Display a game-over screen when the player loses"
   ]
  },
  {
   "cell_type": "markdown",
   "metadata": {},
   "source": [
    "## Review\n",
    "\n",
    "So far, we've covered:\n",
    "- Basics of Pygame, game window, and game loop\n",
    "- User interactions and gravity\n",
    "- Obstacles and painting over hitboxes"
   ]
  },
  {
   "cell_type": "markdown",
   "metadata": {},
   "source": [
    "# Adding a Scoring System Lesson\n",
    "\n",
    "We can't call it a game until we can keep score. \n",
    "\n",
    "Let's add a simple scoring mechanism that increases each time the bird successfully passes through a set of pipes.\n"
   ]
  },
  {
   "cell_type": "code",
   "execution_count": null,
   "metadata": {},
   "outputs": [],
   "source": [
    "# initialize a score variable\n",
    "score = 0\n",
    "\n",
    "# initialize the font\n",
    "font = pygame.font.SysFont('Comic Sans MS', 30)"
   ]
  },
  {
   "cell_type": "markdown",
   "metadata": {},
   "source": [
    "Now let's update our game loop to increment the score if Flappy Bird successfully passed the pipe."
   ]
  },
  {
   "cell_type": "code",
   "execution_count": null,
   "metadata": {},
   "outputs": [],
   "source": [
    "while running:\n",
    "    # ... (The rest of your existing game loop code)\n",
    "\n",
    "    # *** NEW CODE ***\n",
    "    if pipe_x + pipe_width < 50:  # if we assume Flappy Bird is at x=50, when the pipe passes him we have successfully made it through\n",
    "        score += 1\n",
    "        pipe_x = width  # Reset pipe x-coordinate\n",
    "        pipe_height = random.randint(100, 600) # reset with random height\n",
    "\n",
    "    # *** NEW CODE ***\n",
    "    score_text = font.render(f'Score: {score}', False, (0, 0, 0))\n",
    "\n",
    "    # *** NEW CODE ***\n",
    "    screen.blit(score_text, (10, 10)) # replace the other text with this one as it updates with our score\n",
    "\n",
    "    # ..."
   ]
  },
  {
   "cell_type": "markdown",
   "metadata": {},
   "source": [
    "# Creating a Start Screen\n",
    "\n",
    "Before diving into the game, it's always good to have a start screen. Let's create a simple one using Pygame's text rendering features.\n"
   ]
  },
  {
   "cell_type": "code",
   "execution_count": null,
   "metadata": {},
   "outputs": [],
   "source": [
    "# *** NEW CODE ***\n",
    "def show_start_screen():\n",
    "    \n",
    "    # Create a start screen\n",
    "    screen.fill((255, 255, 255))\n",
    "    title_font = pygame.font.SysFont('Comic Sans MS', 40)\n",
    "    title_text = title_font.render('Flappy Bird', False, (0, 0, 0))\n",
    "    screen.blit(title_text, (200, 250))\n",
    "    pygame.display.flip()\n",
    "\n",
    "    waiting = True\n",
    "    while waiting:\n",
    "        for event in pygame.event.get():\n",
    "            if event.type == pygame.QUIT:\n",
    "                pygame.quit()\n",
    "            if event.type == pygame.KEYUP:\n",
    "                waiting = False\n"
   ]
  },
  {
   "cell_type": "markdown",
   "metadata": {},
   "source": [
    "To use our start screen we can call the `show_start_screen` function we just created before our main game loop."
   ]
  },
  {
   "cell_type": "code",
   "execution_count": null,
   "metadata": {},
   "outputs": [],
   "source": [
    "# *** NEW CODE ***\n",
    "show_start_screen()\n",
    "\n",
    "while running:\n",
    "    for event in pygame.event.get():\n",
    "        # ... the rest of our main loop code below ..."
   ]
  },
  {
   "cell_type": "markdown",
   "metadata": {},
   "source": [
    "## Creating a Game-Over Screen\n",
    "\n",
    "Now let's create a game-over screen that will display the final score and offer the player a chance to restart."
   ]
  },
  {
   "cell_type": "code",
   "execution_count": null,
   "metadata": {},
   "outputs": [],
   "source": [
    "# Function to show game-over screen\n",
    "def show_game_over_screen(score):\n",
    "    screen.fill((255, 255, 255))\n",
    "    game_over_font = pygame.font.SysFont('Comic Sans MS', 40)\n",
    "    game_over_text = game_over_font.render(f'Game Over! Score: {score}', False, (0, 0, 0))\n",
    "    screen.blit(game_over_text, (150, 250))\n",
    "    pygame.display.flip()\n",
    "\n",
    "    waiting = True\n",
    "    while waiting:\n",
    "        for event in pygame.event.get():\n",
    "            if event.type == pygame.QUIT:\n",
    "                pygame.quit()\n",
    "            if event.type == pygame.KEYUP:\n",
    "                waiting = False"
   ]
  },
  {
   "cell_type": "markdown",
   "metadata": {},
   "source": [
    "We can place this in our collision detection statement. \n",
    "\n",
    "When the bird hitbox hits a pipe hitbox the `show_game_over_screen` function will be called and we can pass the score to it.\n",
    "\n",
    "We will also add this same functionality when Flappy Bird hits the ground."
   ]
  },
  {
   "cell_type": "code",
   "execution_count": null,
   "metadata": {},
   "outputs": [],
   "source": [
    "show_start_screen()\n",
    "\n",
    "while running:\n",
    "    # ... (The rest of your existing game loop code including collision detection)\n",
    "    \n",
    "    # code that determines if we hit the ground\n",
    "    if bird_y >= height:\n",
    "        # *** NEW CODE ***\n",
    "        show_game_over_screen(score)\n",
    "        # Reset game variables and show start screen\n",
    "        bird_y = 250\n",
    "        bird_velocity = 0\n",
    "        score = 0\n",
    "        pipe_x = 600\n",
    "        pipe_height = random.randint(100, 400)\n",
    "        pipe_passed = False\n",
    "        show_start_screen() # resets to the start screen\n",
    "    \n",
    "    # code that detects collisions\n",
    "    if bird_rect.colliderect(upper_pipe_rect) or bird_rect.colliderect(lower_pipe_rect):\n",
    "        # *** NEW CODE ***\n",
    "        show_game_over_screen(score)\n",
    "        # Reset game variables and show start screen\n",
    "        bird_y = 250\n",
    "        bird_velocity = 0\n",
    "        score = 0\n",
    "        pipe_x = 600\n",
    "        pipe_height = random.randint(100, 400)\n",
    "        pipe_passed = False\n",
    "        show_start_screen() # resets to the start screen\n",
    "        "
   ]
  },
  {
   "cell_type": "markdown",
   "metadata": {},
   "source": [
    "# Summary\n",
    "\n",
    "We have completed our Flappy Bird Game!\n",
    "\n",
    "Now you will be assigned your Unit 2 Project where you will add Power-Ups and more elegant Start/Game Over screens."
   ]
  }
 ],
 "metadata": {
  "language_info": {
   "name": "python"
  },
  "orig_nbformat": 4
 },
 "nbformat": 4,
 "nbformat_minor": 2
}
