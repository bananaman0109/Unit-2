{
 "cells": [
  {
   "cell_type": "markdown",
   "metadata": {},
   "source": [
    "# Loading Images, Creating a Background, Adding a Scoreboard\n",
    "\n",
    "## Lesson Objectives\n",
    "\n",
    "By the end of this lesson, you should be able to:\n",
    "- Load and display images using Pygame\n",
    "- Add text to the game screen\n",
    "- Implement simple animation to make Flappy Bird \"fly\""
   ]
  },
  {
   "cell_type": "markdown",
   "metadata": {},
   "source": [
    "# Important Note\n",
    "\n",
    "The code in each cell of this notebook should be copied into a .py file. \n",
    "\n",
    "The notebook is being used to annotate the lesson and should not be used to run our game environment!\n",
    "\n",
    "See our PyGame Script Outline for more!"
   ]
  },
  {
   "cell_type": "markdown",
   "metadata": {},
   "source": [
    "## Review of Previous Lesson\n",
    "\n",
    "Before we begin, let's quickly recap what we've learned so far:\n",
    "- We know how to install and initialize Pygame\n",
    "- We have created a simple window\n",
    "- We've explored the game loop and drawn basic shapes on the screen"
   ]
  },
  {
   "cell_type": "markdown",
   "metadata": {},
   "source": [
    "## Step 1: Loading Images\n",
    "\n",
    "To bring our Flappy Bird to life, we first need to load an image to represent it.\n",
    "\n",
    "Typically, game assets like text, sprites, etc. are pre-loaded above the main game loop.\n",
    "\n",
    "Below is new code we will add in section 2 above our main game loop."
   ]
  },
  {
   "cell_type": "code",
   "execution_count": null,
   "metadata": {},
   "outputs": [],
   "source": [
    "# Load an image\n",
    "bird_image = pygame.image.load('Unit 2/Game Basics/bird1.png')  # Make sure to have an image named 'bird1.png' in the same folder\n",
    "\n",
    "# Scale the image\n",
    "bird_image = pygame.transform.scale(bird_image, (65, 50))"
   ]
  },
  {
   "cell_type": "markdown",
   "metadata": {},
   "source": [
    "## Step 2: Displaying the Image in our Game Window\n",
    "\n",
    "Now that we've loaded an image, let's add it to our game window.\n",
    "\n",
    "In Pygame, blit is short for \"block image transfer.\" and allows us to draw a source image on our screen.\n",
    "\n",
    "Below we will modify our game loop to paint the Flappy Bird sprite on screen."
   ]
  },
  {
   "cell_type": "code",
   "execution_count": null,
   "metadata": {},
   "outputs": [],
   "source": [
    "# *** NEW CODE ***\n",
    "bird_x = 50\n",
    "bird_y = 50\n",
    "\n",
    "while running:\n",
    "    for event in pygame.event.get():\n",
    "        if event.type == pygame.QUIT:\n",
    "            running = False\n",
    "\n",
    "    # *** NEW CODE ***\n",
    "    screen.blit(bird_image, (bird_x, bird_y)) # this will display our bird at the variable position bird_x and bird_y\n",
    "    \n",
    "    pygame.display.flip()\n",
    "    pygame.time.delay(30)\n",
    "    \n",
    "pygame.quit()"
   ]
  },
  {
   "cell_type": "markdown",
   "metadata": {},
   "source": [
    "## Step 3: Adding Text\n",
    "\n",
    "Let's add some text to our game to display a score or any other information.\n",
    "\n",
    "Below is code we will add in section 2 above our main game loop to initialize the text for a scoreboard."
   ]
  },
  {
   "cell_type": "code",
   "execution_count": null,
   "metadata": {},
   "outputs": [],
   "source": [
    "# Initialize the font\n",
    "pygame.font.init()\n",
    "myfont = pygame.font.SysFont('Comic Sans MS', 30)\n",
    "\n",
    "# Create a text surface\n",
    "text_surface = myfont.render('Score: 0', False, (0, 0, 0))"
   ]
  },
  {
   "cell_type": "markdown",
   "metadata": {},
   "source": [
    "After initializing the text above the game loop we can draw it on the screen using the following modified game loop.\n",
    "\n",
    "Let's add the new code to the game loop in tandem with the other code we have written to display the Flappy Bird."
   ]
  },
  {
   "cell_type": "code",
   "execution_count": null,
   "metadata": {},
   "outputs": [],
   "source": [
    "while running:\n",
    "    \n",
    "    for event in pygame.event.get():\n",
    "        if event.type == pygame.QUIT:\n",
    "            running = False\n",
    "            \n",
    "    # *** NEW CODE ***\n",
    "    screen.fill((255, 255, 255)) # clears the screen so we can draw the score board\n",
    "\n",
    "    # *** NEW CODE ***\n",
    "    screen.blit(text_surface, (10, 10)) # distance from the origin (0, 0) in the upper left hand corner\n",
    "    \n",
    "    pygame.display.flip()\n",
    "    pygame.time.delay(30)\n",
    "    \n",
    "pygame.quit()"
   ]
  },
  {
   "cell_type": "markdown",
   "metadata": {},
   "source": [
    "# Step 4: Moving Background\n",
    "\n",
    "Here we will learn how to add a looped moving background by modifying our main game loop.\n",
    "\n",
    "First we load the background image in before the main game loop and preset the location and speed."
   ]
  },
  {
   "cell_type": "code",
   "execution_count": null,
   "metadata": {},
   "outputs": [],
   "source": [
    "# Load background image\n",
    "bg_image = pygame.image.load('Unit 2/Game Basics/bg.png')\n",
    "\n",
    "# scale the background image to fit the game window size\n",
    "bg_image = pygame.transform.scale(bg_image, (width, height))\n",
    "\n",
    "# Initialize background positions\n",
    "bg_x1 = 0\n",
    "bg_x2 = bg_image.get_width()  # Assume the background image is the same width as the screen\n",
    "\n",
    "# Scroll speed\n",
    "bg_scroll_speed = 2"
   ]
  },
  {
   "cell_type": "markdown",
   "metadata": {},
   "source": [
    "Now we will create two copies of the background and offset them so it appears to scroll infinitely.\n",
    "\n",
    "Ensure we place this code before the other items so they stack correctly!"
   ]
  },
  {
   "cell_type": "code",
   "execution_count": null,
   "metadata": {},
   "outputs": [],
   "source": [
    "while running:\n",
    "    # ...\n",
    "\n",
    "    # *** NEW CODE ***\n",
    "    bg_x1 -= bg_scroll_speed # update background position\n",
    "    bg_x2 -= bg_scroll_speed\n",
    "\n",
    "    # *** NEW CODE ***\n",
    "    if bg_x1 <= -bg_image.get_width(): # reset background position when it's fully off the screen\n",
    "        bg_x1 = bg_image.get_width()\n",
    "    if bg_x2 <= -bg_image.get_width():\n",
    "        bg_x2 = bg_image.get_width()\n",
    "\n",
    "    # *** NEW CODE ***\n",
    "    screen.blit(bg_image, (bg_x1, 0)) # paints the background images\n",
    "    screen.blit(bg_image, (bg_x2, 0))\n",
    "    \n",
    "    # ...\n",
    "    \n",
    "    pygame.display.flip()\n",
    "    pygame.time.delay(30)"
   ]
  },
  {
   "cell_type": "markdown",
   "metadata": {},
   "source": [
    "## Summary\n",
    "\n",
    "Today we added images, animated the background, and added text on the screen for a score.\n"
   ]
  }
 ],
 "metadata": {
  "language_info": {
   "name": "python"
  },
  "orig_nbformat": 4
 },
 "nbformat": 4,
 "nbformat_minor": 2
}
