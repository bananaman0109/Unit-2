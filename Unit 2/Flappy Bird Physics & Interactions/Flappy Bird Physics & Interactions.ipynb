{
 "cells": [
  {
   "cell_type": "markdown",
   "metadata": {},
   "source": [
    "# User Interactions and Simulating Gravity Lesson\n",
    "\n",
    "Today we'll add user interactions and gravity to make our game more dynamic.\n",
    "\n",
    "## Lesson Objectives\n",
    "\n",
    "By the end of this lesson, you should be able to:\n",
    "- Make the Flappy Bird respond to user inputs\n",
    "- Implement a gravity simulation"
   ]
  },
  {
   "cell_type": "markdown",
   "metadata": {},
   "source": [
    "# Important Note\n",
    "\n",
    "The code in each cell of this notebook should be copied into a .py file. \n",
    "\n",
    "The notebook is being used to annotate the lesson and should not be used to run our game environment!\n",
    "\n",
    "See our PyGame Script Outline for more!"
   ]
  },
  {
   "cell_type": "markdown",
   "metadata": {},
   "source": [
    "## Review\n",
    "\n",
    "In the previous lessons, we've:\n",
    "- Installed and initialized Pygame\n",
    "- Created a window and game loop\n",
    "- Loaded images and displayed text\n",
    "- Implemented simple animations"
   ]
  },
  {
   "cell_type": "markdown",
   "metadata": {},
   "source": [
    "## Step 1: Basic User Interactions (Key Events)\n",
    "\n",
    "Let's first focus on making the bird \"flap\" when a specific key is pressed. \n",
    "\n",
    "In Flappy Bird, the bird flaps when the player taps the screen. \n",
    "\n",
    "In our case, we'll use the spacebar. First, we will write the code to recognize when a key is pressed by modifying our previous game loop."
   ]
  },
  {
   "cell_type": "code",
   "execution_count": null,
   "metadata": {},
   "outputs": [],
   "source": [
    "# *** NEW CODE ***\n",
    "bird_velocity = 0\n",
    "\n",
    "while running:\n",
    "    \n",
    "    for event in pygame.event.get():\n",
    "        if event.type == pygame.QUIT:\n",
    "            running = False\n",
    "            \n",
    "        # *** NEW CODE ***\n",
    "        if event.type == pygame.KEYDOWN: # check to see if a key is pressed\n",
    "            if event.key == pygame.K_SPACE: # checks to see specifically if the space key is pressed\n",
    "                print(\"Spacebar pressed. The bird should flap now!\")  # We'll replace this with code to move the bird\n",
    "\n",
    "\n",
    "    screen.fill((255, 255, 255))\n",
    "    screen.blit(bird_image, (50, int(bird_y)))\n",
    "\n",
    "    pygame.display.flip()\n",
    "    pygame.time.delay(30)"
   ]
  },
  {
   "cell_type": "markdown",
   "metadata": {},
   "source": [
    "Now let's replace that print statement with actual code to make the bird move upward when the spacebar is pressed."
   ]
  },
  {
   "cell_type": "code",
   "execution_count": null,
   "metadata": {},
   "outputs": [],
   "source": [
    "# *** NEW CODE ***\n",
    "flap_power = -15  # This will determine how much the bird will move upwards\n",
    "\n",
    "while running:\n",
    "    for event in pygame.event.get():\n",
    "        if event.type == pygame.QUIT:\n",
    "            running = False\n",
    "        # *** NEW CODE ***\n",
    "        if event.type == pygame.KEYDOWN:\n",
    "            if event.key == pygame.K_SPACE:\n",
    "                bird_velocity = flap_power  # Make the bird move upwards\n",
    "                \n",
    "    # *** NEW CODE ***\n",
    "    bird_y += bird_velocity  # update bird position based on velocity\n",
    "\n",
    "    screen.fill((255, 255, 255))\n",
    "    screen.blit(bird_image, (50, int(bird_y)))\n",
    "\n",
    "    pygame.display.flip()\n",
    "    pygame.time.delay(30)"
   ]
  },
  {
   "cell_type": "markdown",
   "metadata": {},
   "source": [
    "## Step 3: Implementing Gravity\n",
    "\n",
    "Great! Our bird can now flap. But it continues moving upward forever! Let's introduce gravity to bring it back down."
   ]
  },
  {
   "cell_type": "code",
   "execution_count": null,
   "metadata": {},
   "outputs": [],
   "source": [
    "# *** NEW CODE ***\n",
    "gravity = 1 # determines how fast Flappy Bird will fall\n",
    "\n",
    "while running:\n",
    "    for event in pygame.event.get():\n",
    "        if event.type == pygame.QUIT:\n",
    "            running = False\n",
    "        if event.type == pygame.KEYDOWN:\n",
    "            if event.key == pygame.K_SPACE:\n",
    "                bird_velocity = flap_power\n",
    "                \n",
    "    # *** NEW CODE ***\n",
    "    bird_velocity += gravity  # Apply gravity to velocity\n",
    "    \n",
    "    bird_y += bird_velocity \n",
    "\n",
    "    screen.fill((255, 255, 255))\n",
    "    screen.blit(bird_image, (50, int(bird_y)))\n",
    "\n",
    "    pygame.display.flip()\n",
    "    pygame.time.delay(30)"
   ]
  },
  {
   "cell_type": "markdown",
   "metadata": {},
   "source": [
    "## Step 4: Adding a Restart Mechanism\n",
    "\n",
    "Our bird currently flies off the screen, never to return. Let's add a simple mechanism to restart the game when the bird reaches the ground."
   ]
  },
  {
   "cell_type": "code",
   "execution_count": null,
   "metadata": {},
   "outputs": [],
   "source": [
    "while running:\n",
    "    for event in pygame.event.get():\n",
    "        if event.type == pygame.QUIT:\n",
    "            running = False\n",
    "        if event.type == pygame.KEYDOWN:\n",
    "            if event.key == pygame.K_SPACE:\n",
    "                bird_velocity = flap_power\n",
    "                \n",
    "    bird_velocity += gravity\n",
    "    bird_y += bird_velocity\n",
    "    \n",
    "    # *** NEW CODE ***\n",
    "    if bird_y >= height: # if Flappy Bird's position is greater than or equal to the height of the screen (hits the floor)\n",
    "        # we will reset its position and velocity\n",
    "        bird_y = 50\n",
    "        bird_velocity = 0\n",
    "\n",
    "    screen.fill((255, 255, 255))\n",
    "    screen.blit(bird_image, (50, int(bird_y)))\n",
    "\n",
    "    pygame.display.flip()\n",
    "    pygame.time.delay(30)"
   ]
  },
  {
   "cell_type": "markdown",
   "metadata": {},
   "source": [
    "## Step 5: Adding a Ceiling\n",
    "\n",
    "Let's add a ceiling so Flappy Bird can't go off screen."
   ]
  },
  {
   "cell_type": "code",
   "execution_count": null,
   "metadata": {},
   "outputs": [],
   "source": [
    "while running:\n",
    "    for event in pygame.event.get():\n",
    "        if event.type == pygame.QUIT:\n",
    "            running = False\n",
    "        if event.type == pygame.KEYDOWN:\n",
    "            if event.key == pygame.K_SPACE:\n",
    "                bird_velocity = flap_power\n",
    "                \n",
    "    bird_velocity += gravity\n",
    "    bird_y += bird_velocity\n",
    "    \n",
    "    if bird_y >= height:\n",
    "        bird_y = 50\n",
    "        bird_velocity = 0\n",
    "    \n",
    "    # *** NEW CODE ***\n",
    "    if bird_y <= 0: # if Flappy Bird hits the ceiling (y position is 0)\n",
    "        # we lock his position at the top of the screen\n",
    "        bird_y = 0\n",
    "        bird_velocity = 0\n",
    "\n",
    "    screen.fill((255, 255, 255))\n",
    "    screen.blit(bird_image, (50, int(bird_y)))\n",
    "\n",
    "    pygame.display.flip()\n",
    "    pygame.time.delay(30)"
   ]
  },
  {
   "cell_type": "markdown",
   "metadata": {},
   "source": [
    "## Summary\n",
    "\n",
    "We've successfully made your Flappy Bird respond to user interactions and introduced gravity to the game."
   ]
  }
 ],
 "metadata": {
  "language_info": {
   "name": "python"
  },
  "orig_nbformat": 4
 },
 "nbformat": 4,
 "nbformat_minor": 2
}
