{
 "cells": [
  {
   "cell_type": "markdown",
   "metadata": {},
   "source": [
    "# Introduction to Pygame and Game Loop Basics Lesson\n",
    "\n",
    "Welcome to the first lesson in our Flappy Bird game development series! Today, we'll be introducing Pygame, a set of Python modules designed for writing video games.\n",
    "\n",
    "## Lesson Objectives\n",
    "\n",
    "By the end of this lesson, you should be able to:\n",
    "- Install Pygame and initialize it\n",
    "- Understand game loops and their importance\n",
    "- Draw basic shapes on a screen"
   ]
  },
  {
   "cell_type": "markdown",
   "metadata": {},
   "source": [
    "# Important Note\n",
    "\n",
    "The code in each cell of this notebook should be copied into a .py file. \n",
    "\n",
    "The notebook is being used to annotate the lesson and should not be used to run our game environment!\n",
    "\n",
    "See our PyGame Script Outline for more!"
   ]
  },
  {
   "cell_type": "markdown",
   "metadata": {},
   "source": [
    "## Step 1: Installing Pygame\n",
    "\n",
    "This package provides the functionalities needed to create games in Python."
   ]
  },
  {
   "cell_type": "code",
   "execution_count": null,
   "metadata": {},
   "outputs": [],
   "source": [
    "# Installing Pygame\n",
    "!pip install pygame # if you have version 3 of Python you may need to use: !pip3 install pygame"
   ]
  },
  {
   "cell_type": "markdown",
   "metadata": {},
   "source": [
    "## Step 2: Importing Pygame and Initialization\n",
    "\n",
    "Once we download PyGame we need to import it into our Python code so we can use it to help build games."
   ]
  },
  {
   "cell_type": "code",
   "execution_count": null,
   "metadata": {},
   "outputs": [],
   "source": [
    "# Importing Pygame and Initialization\n",
    "import pygame\n",
    "\n",
    "# Initialize all imported Pygame modules\n",
    "pygame.init()"
   ]
  },
  {
   "cell_type": "markdown",
   "metadata": {},
   "source": [
    "## Step 3: Creating a Window\n",
    "\n",
    "To build a game we need to create a game window, this is where all the action takes place."
   ]
  },
  {
   "cell_type": "code",
   "execution_count": null,
   "metadata": {},
   "outputs": [],
   "source": [
    "# Set the dimensions of the window\n",
    "width = 1000\n",
    "height = 500\n",
    "\n",
    "# Create the window\n",
    "screen = pygame.display.set_mode((width, height))\n",
    "\n",
    "# Set the title of the window\n",
    "pygame.display.set_caption('My First Pygame Window')"
   ]
  },
  {
   "cell_type": "markdown",
   "metadata": {},
   "source": [
    "## Step 4: The Game Loop\n",
    "\n",
    "A game will need to operate on a somewhat \"infinite\" loop. \n",
    "\n",
    "This is so we can constantly receive feedback from the player. \n",
    "\n",
    "Let's look at how we can create a game loop below."
   ]
  },
  {
   "cell_type": "code",
   "execution_count": null,
   "metadata": {},
   "outputs": [],
   "source": [
    "# Main flag for the game loop\n",
    "running = True\n",
    "\n",
    "# Main game loop\n",
    "while running:\n",
    "    \n",
    "    # This for loop cycles through all the user inputs in a given set of frames\n",
    "    for event in pygame.event.get():\n",
    "        # if the user quits, we set the running flag to false\n",
    "        if event.type == pygame.QUIT:\n",
    "            running = False\n",
    "    \n",
    "# Quit Pygame when running flag is switched to False\n",
    "pygame.quit()"
   ]
  },
  {
   "cell_type": "markdown",
   "metadata": {},
   "source": [
    "## Step 5: Drawing Simple Shapes\n",
    "\n",
    "Let's check out how we can start to draw basic shapes in our window. \n",
    "\n",
    "This will be useful for creating sprites, obstacles, enemies, etc.\n",
    "\n",
    "The commented code is new and we will add it to our game loop."
   ]
  },
  {
   "cell_type": "code",
   "execution_count": null,
   "metadata": {},
   "outputs": [],
   "source": [
    "running = True\n",
    "\n",
    "while running:\n",
    "   \n",
    "    for event in pygame.event.get():\n",
    "        if event.type == pygame.QUIT:\n",
    "            running = False\n",
    "            \n",
    "    # -- Update the game environment below here --\n",
    "    \n",
    "    # Draw a rectangle\n",
    "    pygame.draw.rect(screen, (255, 0, 0), (50, 50, 50, 50)) # window, color, position to draw the rectangle\n",
    "    \n",
    "    # To update the enviroment based on the changes above we call .flip()\n",
    "    # The .flip() function will update the screen with all the changes we made in the starred section above\n",
    "    # changes are not visible to the user until we call .flip()\n",
    "    pygame.display.flip()\n",
    "    \n",
    "    # Cap the frame rate\n",
    "    pygame.time.delay(30) # 30 frames\n",
    "    \n",
    "\n",
    "pygame.quit()"
   ]
  },
  {
   "cell_type": "markdown",
   "metadata": {},
   "source": [
    "## In Class Practice"
   ]
  },
  {
   "cell_type": "markdown",
   "metadata": {},
   "source": [
    "Based on (Step 5) try to manipulate the size and color of the shape, or even draw more on the screen.\n",
    "\n",
    "Try searching for the PyGame 'documentation' online or asking Stack Overflow / ChatGPT what each input means - this is good practice for debugging your own projects!\n",
    "\n",
    "This is how engineers work in practice!"
   ]
  },
  {
   "cell_type": "code",
   "execution_count": null,
   "metadata": {},
   "outputs": [],
   "source": []
  },
  {
   "cell_type": "markdown",
   "metadata": {},
   "source": [
    "## Summary\n",
    "\n",
    "In this lesson, we've:\n",
    "- Installed Pygame\n",
    "- Created a window using Pygame\n",
    "- Learned about the game loop\n",
    "- Drawn basic shapes on the screen"
   ]
  }
 ],
 "metadata": {
  "kernelspec": {
   "display_name": "Python 3",
   "language": "python",
   "name": "python3"
  },
  "language_info": {
   "codemirror_mode": {
    "name": "ipython",
    "version": 3
   },
   "file_extension": ".py",
   "mimetype": "text/x-python",
   "name": "python",
   "nbconvert_exporter": "python",
   "pygments_lexer": "ipython3",
   "version": "3.9.9"
  },
  "orig_nbformat": 4
 },
 "nbformat": 4,
 "nbformat_minor": 2
}
