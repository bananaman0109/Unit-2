{
 "cells": [
  {
   "cell_type": "markdown",
   "metadata": {},
   "source": [
    "# Adding Obstacles Lesson\n",
    "\n",
    "Today's lesson will focus on adding obstacles to add an objective for the player.\n",
    "\n",
    "## Lesson Objectives\n",
    "\n",
    "By the end of this lesson, you should be able to:\n",
    "- Generate and move obstacles in the game window\n",
    "- Implement a simple collision detection mechanism\n",
    "- Display and update the player's score"
   ]
  },
  {
   "cell_type": "markdown",
   "metadata": {},
   "source": [
    "## Review\n",
    "\n",
    "So far, we've covered:\n",
    "- Installing and initializing Pygame\n",
    "- Creating a game window and loop\n",
    "- User interactions and gravity simulation\n",
    "- Adding boundaries and reset conditions\n",
    "\n",
    "Let's build on that foundation and add some exciting features!"
   ]
  },
  {
   "cell_type": "markdown",
   "metadata": {},
   "source": [
    "## Step 1: Creating Obstacles\n",
    "\n",
    "Our first task is to add pipes as obstacles. \n",
    "\n",
    "The bird has to navigate through these pipes without colliding with them. \n",
    "\n",
    "We'll create pipes using Pygame's rectangle drawing function."
   ]
  },
  {
   "cell_type": "code",
   "execution_count": null,
   "metadata": {},
   "outputs": [],
   "source": [
    "# *** NEW IMPORT ***\n",
    "import random\n",
    "\n",
    "# *** NEW CODE ***\n",
    "pipe_width = 50 # width of the pipe visually\n",
    "pipe_gap = 200 # gap so Flappy Bird can always make it through\n",
    "pipe_height = random.randint(100, 400) # randomize the pipe height\n",
    "pipe_x = width  # Starting x-coordinate is edge of the screen\n",
    "\n",
    "while running:\n",
    "    \n",
    "    for event in pygame.event.get():\n",
    "        pass\n",
    "        # ...rest of the for event loop code\n",
    "\n",
    "    # *** NEW CODE ***\n",
    "    pipe_x -= 5 # move the pipe closer to the left of the screen\n",
    "    if pipe_x < -pipe_width:\n",
    "        # when the pipe reaches the edge of the screen we reset it with random parameters\n",
    "        pipe_x = width\n",
    "        pipe_height = random.randint(100, 600)\n",
    "\n",
    "\n",
    "    screen.fill((255, 255, 255))\n",
    "    \n",
    "    # *** NEW CODE ***\n",
    "    pygame.draw.rect(screen, (0, 255, 0), (pipe_x, 0, pipe_width, pipe_height))  # Upper pipe\n",
    "    pygame.draw.rect(screen, (0, 255, 0), (pipe_x, pipe_height + pipe_gap, pipe_width, width))  # Lower pipe\n",
    "\n",
    "    #...rest of the main loop code\n"
   ]
  },
  {
   "cell_type": "markdown",
   "metadata": {},
   "source": [
    "## Step 2: Painting Over Obstacles & Implementing Collision Detection\n",
    "\n",
    "Our game wouldn't be challenging without a way to lose! \n",
    "\n",
    "We'll implement collision detection to restart the game if the bird collides with the pipes.\n",
    "\n",
    "To do this we need to create \"hitboxes\" for our pipes and Flappy Bird, this allows us to see if they ever hit each other."
   ]
  },
  {
   "cell_type": "code",
   "execution_count": null,
   "metadata": {},
   "outputs": [],
   "source": [
    "# *** NEW CODE ***\n",
    "bird_rect = pygame.Rect(bird_x, bird_y, 65, 50)  # Assuming the bird image is 100x50 pixels create a rectangle \"hitbox\" for Flappy Bird\n",
    "\n",
    "\n",
    "while running:\n",
    "    # ... (The rest of your existing game loop code)\n",
    "\n",
    "    # *** NEW CODE ***\n",
    "    bird_rect.topleft = (bird_x, bird_y) # this will be Flappy Bird's hitbox and must be placed before the blit, notice how it matches the x,y\n",
    "    \n",
    "    # *** NEW CODE ***\n",
    "    # this code replaces the previous rectangle pipes code\n",
    "    upper_pipe_rect = pygame.Rect(pipe_x, 0, pipe_width, pipe_height) # create the upper pipe\n",
    "    lower_pipe_rect = pygame.Rect(pipe_x, pipe_height + pipe_gap, pipe_width, width) # create the lower pipe\n",
    "\n",
    "    # *** NEW CODE ***\n",
    "    if bird_rect.colliderect(upper_pipe_rect) or bird_rect.colliderect(lower_pipe_rect): # check for a collision\n",
    "        print(\"Game Over!\")  # print game over if there is a collision\n",
    "    \n",
    "    # ...\n"
   ]
  },
  {
   "cell_type": "markdown",
   "metadata": {},
   "source": [
    "Let's use the pipe images from the original Flappy Bird game."
   ]
  },
  {
   "cell_type": "code",
   "execution_count": null,
   "metadata": {},
   "outputs": [],
   "source": [
    "# create and load an upper pipe image\n",
    "upper_pipe_image = pygame.image.load('Unit 2/Game Obstacles/pipe.png')  # Make sure to have an image named 'pipe.png' in the same folder\n",
    "upper_pipe_image = pygame.transform.flip(upper_pipe_image, False, True) # flip the image so it faces the correct direction\n",
    "\n",
    "# create and load a lower pipe image\n",
    "lower_pipe_image = pygame.image.load('Unit 2/Game Obstacles/pipe.png')"
   ]
  },
  {
   "cell_type": "markdown",
   "metadata": {},
   "source": [
    "Now just like Flappy Bird, let's paint this over our rectangle \"hitboxes\"."
   ]
  },
  {
   "cell_type": "code",
   "execution_count": null,
   "metadata": {},
   "outputs": [],
   "source": [
    "while running:\n",
    "    # ...\n",
    "        \n",
    "    # *** NEW CODE ***\n",
    "    # generate the hitboxes for the pipes based on the originally spec'd height and width\n",
    "    upper_pipe_rect = pygame.Rect(pipe_x, 0, pipe_width, pipe_height) # create the upper pipe\n",
    "    lower_pipe_rect = pygame.Rect(pipe_x, pipe_height + pipe_gap, pipe_width, width) # create the lower pipe\n",
    "    \n",
    "    # *** NEW CODE ***\n",
    "    # scale the upper/lower pipe images so they fit the hitboxes\n",
    "    upper_pipe_image = pygame.transform.scale(upper_pipe_image, (pipe_width, pipe_height))\n",
    "    lower_pipe_image = pygame.transform.scale(lower_pipe_image, (pipe_width, pipe_gap + pipe_height))\n",
    "    \n",
    "    # *** NEW CODE ***\n",
    "    # paint the upper/lower pipe images over the rectangle hit boxes\n",
    "    screen.blit(upper_pipe_image, upper_pipe_rect.topleft)\n",
    "    screen.blit(lower_pipe_image, lower_pipe_rect.topleft)\n",
    "    \n",
    "    pygame.display.flip()\n",
    "    pygame.time.delay(30)\n",
    "\n",
    "pygame.quit()"
   ]
  }
 ],
 "metadata": {
  "language_info": {
   "name": "python"
  },
  "orig_nbformat": 4
 },
 "nbformat": 4,
 "nbformat_minor": 2
}
